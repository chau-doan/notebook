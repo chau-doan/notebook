{
 "cells": [
  {
   "cell_type": "code",
   "execution_count": 24,
   "id": "50eea5b8",
   "metadata": {},
   "outputs": [
    {
     "name": "stdout",
     "output_type": "stream",
     "text": [
      "SAFe. to ones simple from Agile of flavors different on environment, any to deployed software developed custom or PPAs any including types, software all for services testing software and assurance quality offer We "
     ]
    }
   ],
   "source": [
    "text = 'We offer quality assurance and software testing services for all software types, including any PPAs or custom developed software deployed to any environment, on different flavors of Agile from simple ones to SAFe.'\n",
    "word = text.split()\n",
    "word.reverse()\n",
    "for i in word:\n",
    "    print(i, end=' ')"
   ]
  },
  {
   "cell_type": "code",
   "execution_count": 25,
   "id": "d54085fd",
   "metadata": {},
   "outputs": [],
   "source": [
    "def cons(s):\n",
    "    res =''\n",
    "    for i in range(len(s)):\n",
    "        for j in range(len(s),i,-1):\n",
    "            if len(res) >= j-i+1:\n",
    "                break\n",
    "            elif s[i:j] == s[i:j][::-1]:\n",
    "                res = s[i:j]\n",
    "                break\n",
    "    return res\n",
    "s = 'dwwek'"
   ]
  },
  {
   "cell_type": "code",
   "execution_count": 26,
   "id": "9e296ed8",
   "metadata": {},
   "outputs": [
    {
     "name": "stdout",
     "output_type": "stream",
     "text": [
      "ww\n"
     ]
    }
   ],
   "source": [
    "print(cons(s))"
   ]
  },
  {
   "cell_type": "code",
   "execution_count": 27,
   "id": "82796b8a",
   "metadata": {},
   "outputs": [
    {
     "name": "stdout",
     "output_type": "stream",
     "text": [
      "30\n",
      "27\n",
      "24\n",
      "21\n",
      "18\n",
      "15\n",
      "12\n",
      "9\n",
      "6\n"
     ]
    }
   ],
   "source": [
    "for i in range(30,3,-3):\n",
    "    print(i)"
   ]
  },
  {
   "cell_type": "code",
   "execution_count": 28,
   "id": "5890e0c0",
   "metadata": {},
   "outputs": [
    {
     "name": "stdout",
     "output_type": "stream",
     "text": [
      "cdhuonaa\n"
     ]
    }
   ],
   "source": [
    "def zig(s, numRows):\n",
    "    if numRows == 1:\n",
    "        return s\n",
    "    rows = ['']*numRows\n",
    "    curr, down = 0, 0\n",
    "    for c in s:\n",
    "        rows[curr] += c\n",
    "        if curr == 0 or curr == numRows -1:\n",
    "            down ^= 1\n",
    "        curr += 1 if down else -1\n",
    "    return ''.join([row for row in rows])\n",
    "s = 'chaudoan'\n",
    "print(zig(s, 3))"
   ]
  },
  {
   "cell_type": "code",
   "execution_count": 29,
   "id": "54282113",
   "metadata": {},
   "outputs": [
    {
     "data": {
      "text/plain": [
       "'cadahuon'"
      ]
     },
     "execution_count": 29,
     "metadata": {},
     "output_type": "execute_result"
    }
   ],
   "source": [
    "zig('chaudoan', 2)"
   ]
  },
  {
   "cell_type": "code",
   "execution_count": 4,
   "id": "8050d914",
   "metadata": {},
   "outputs": [],
   "source": [
    "def palind(s):\n",
    "    res = ''\n",
    "    for i in range(len(s)):\n",
    "        for j in range(len(s), i, -1):\n",
    "            if len(res) >= j-i+1:\n",
    "                print(f'the length {res}')\n",
    "                break\n",
    "            elif s[i:j] == s[i:j][::-1]:\n",
    "                res = s[i:j]\n",
    "                print(f'the result {res}')\n",
    "                break\n",
    "    return res"
   ]
  },
  {
   "cell_type": "code",
   "execution_count": 5,
   "id": "aa21b8b5",
   "metadata": {},
   "outputs": [
    {
     "name": "stdout",
     "output_type": "stream",
     "text": [
      "the result bab\n",
      "the result aba\n",
      "the length aba\n",
      "the length aba\n",
      "the length aba\n"
     ]
    },
    {
     "data": {
      "text/plain": [
       "'aba'"
      ]
     },
     "execution_count": 5,
     "metadata": {},
     "output_type": "execute_result"
    }
   ],
   "source": [
    "palind('babad')"
   ]
  },
  {
   "cell_type": "code",
   "execution_count": 6,
   "id": "c294f99a",
   "metadata": {},
   "outputs": [
    {
     "name": "stdout",
     "output_type": "stream",
     "text": [
      "the result b\n"
     ]
    },
    {
     "data": {
      "text/plain": [
       "'b'"
      ]
     },
     "execution_count": 6,
     "metadata": {},
     "output_type": "execute_result"
    }
   ],
   "source": [
    "palind('b')"
   ]
  },
  {
   "cell_type": "code",
   "execution_count": 7,
   "id": "60361719",
   "metadata": {},
   "outputs": [
    {
     "name": "stdout",
     "output_type": "stream",
     "text": [
      "the result a\n",
      "the result bb\n",
      "the length bb\n",
      "the length bb\n"
     ]
    },
    {
     "data": {
      "text/plain": [
       "'bb'"
      ]
     },
     "execution_count": 7,
     "metadata": {},
     "output_type": "execute_result"
    }
   ],
   "source": [
    "palind('abbc')"
   ]
  },
  {
   "cell_type": "code",
   "execution_count": 8,
   "id": "e23adc2c",
   "metadata": {},
   "outputs": [],
   "source": [
    "a = 1"
   ]
  },
  {
   "cell_type": "code",
   "execution_count": 9,
   "id": "288b9c62",
   "metadata": {},
   "outputs": [],
   "source": [
    "a += 1"
   ]
  },
  {
   "cell_type": "code",
   "execution_count": 10,
   "id": "1d4eb35c",
   "metadata": {},
   "outputs": [
    {
     "data": {
      "text/plain": [
       "2"
      ]
     },
     "execution_count": 10,
     "metadata": {},
     "output_type": "execute_result"
    }
   ],
   "source": [
    "a"
   ]
  },
  {
   "cell_type": "code",
   "execution_count": 11,
   "id": "926b8d47",
   "metadata": {},
   "outputs": [],
   "source": [
    "a ^= 1"
   ]
  },
  {
   "cell_type": "code",
   "execution_count": 12,
   "id": "eb6cbaff",
   "metadata": {},
   "outputs": [
    {
     "data": {
      "text/plain": [
       "3"
      ]
     },
     "execution_count": 12,
     "metadata": {},
     "output_type": "execute_result"
    }
   ],
   "source": [
    "a"
   ]
  },
  {
   "cell_type": "code",
   "execution_count": 17,
   "id": "b91fe804",
   "metadata": {},
   "outputs": [],
   "source": [
    "def fact(n):\n",
    "    return 1 if n < 1 else n * fact(n - 1)"
   ]
  },
  {
   "cell_type": "code",
   "execution_count": 19,
   "id": "256c2569",
   "metadata": {},
   "outputs": [
    {
     "data": {
      "text/plain": [
       "120"
      ]
     },
     "execution_count": 19,
     "metadata": {},
     "output_type": "execute_result"
    }
   ],
   "source": [
    "fact(5)"
   ]
  },
  {
   "cell_type": "code",
   "execution_count": 25,
   "id": "fd607464",
   "metadata": {},
   "outputs": [],
   "source": [
    "def fib(n):\n",
    "    return 1 if n <= 2 else fib(n-1)+ fib(n-2)"
   ]
  },
  {
   "cell_type": "code",
   "execution_count": 26,
   "id": "480286fe",
   "metadata": {},
   "outputs": [
    {
     "data": {
      "text/plain": [
       "55"
      ]
     },
     "execution_count": 26,
     "metadata": {},
     "output_type": "execute_result"
    }
   ],
   "source": [
    "fib(10)"
   ]
  },
  {
   "cell_type": "code",
   "execution_count": 65,
   "id": "807e8e19",
   "metadata": {},
   "outputs": [],
   "source": [
    "def reverse(x):\n",
    "    if x >= 0:\n",
    "        y = int(str(x)[::-1])\n",
    "        return y if y < pow(2, 31)-1 else 0\n",
    "    else:\n",
    "        y = -int(str(x)[:0:-1])\n",
    "        return y if y > -pow(2, 31)-1 else 0"
   ]
  },
  {
   "cell_type": "code",
   "execution_count": 66,
   "id": "0de8c53d",
   "metadata": {},
   "outputs": [
    {
     "name": "stdout",
     "output_type": "stream",
     "text": [
      "The result is: -321\n"
     ]
    },
    {
     "data": {
      "text/plain": [
       "-321"
      ]
     },
     "execution_count": 66,
     "metadata": {},
     "output_type": "execute_result"
    }
   ],
   "source": [
    "x = -123\n",
    "reverse(x)"
   ]
  },
  {
   "cell_type": "code",
   "execution_count": 60,
   "id": "107a306f",
   "metadata": {},
   "outputs": [
    {
     "name": "stdout",
     "output_type": "stream",
     "text": [
      "The result is: 321\n"
     ]
    },
    {
     "data": {
      "text/plain": [
       "321"
      ]
     },
     "execution_count": 60,
     "metadata": {},
     "output_type": "execute_result"
    }
   ],
   "source": [
    "reverse(123)"
   ]
  },
  {
   "cell_type": "code",
   "execution_count": 61,
   "id": "ab49e9d1",
   "metadata": {},
   "outputs": [
    {
     "data": {
      "text/plain": [
       "'naoduah'"
      ]
     },
     "execution_count": 61,
     "metadata": {},
     "output_type": "execute_result"
    }
   ],
   "source": [
    "x = 'chaudoan'\n",
    "x[:0:-1]"
   ]
  },
  {
   "cell_type": "code",
   "execution_count": 62,
   "id": "edfb7522",
   "metadata": {},
   "outputs": [
    {
     "data": {
      "text/plain": [
       "'naoduahc'"
      ]
     },
     "execution_count": 62,
     "metadata": {},
     "output_type": "execute_result"
    }
   ],
   "source": [
    "x = 'chaudoan'\n",
    "x[::-1]"
   ]
  },
  {
   "cell_type": "code",
   "execution_count": 78,
   "id": "6c408eb0",
   "metadata": {},
   "outputs": [],
   "source": [
    "def myAtoi(str):\n",
    "    str = str.strip()   #remove back and front the str\n",
    "    if not str: return 0\n",
    "    sign = -1 if str[0] == '-' else 1\n",
    "    str = str[1:] if str[0] in ['-', '+'] else str\n",
    "    res = 0\n",
    "    for c in str:\n",
    "        if not c.isdigit():\n",
    "            break\n",
    "        res = res * 10 + int(c)\n",
    "        if res * sign >= pow(2, 31)-1:\n",
    "            return pow(2, 31)-1\n",
    "        if res * sign <= -pow(2, 31):\n",
    "            return -pow(2, 31)\n",
    "    return res * sign"
   ]
  },
  {
   "cell_type": "code",
   "execution_count": 79,
   "id": "41faf461",
   "metadata": {},
   "outputs": [
    {
     "data": {
      "text/plain": [
       "4193"
      ]
     },
     "execution_count": 79,
     "metadata": {},
     "output_type": "execute_result"
    }
   ],
   "source": [
    "myAtoi('4193 with words')"
   ]
  },
  {
   "cell_type": "code",
   "execution_count": 80,
   "id": "bbbc3c24",
   "metadata": {},
   "outputs": [
    {
     "data": {
      "text/plain": [
       "-42"
      ]
     },
     "execution_count": 80,
     "metadata": {},
     "output_type": "execute_result"
    }
   ],
   "source": [
    "myAtoi('     -42')"
   ]
  },
  {
   "cell_type": "code",
   "execution_count": 81,
   "id": "10a42498",
   "metadata": {},
   "outputs": [
    {
     "data": {
      "text/plain": [
       "42"
      ]
     },
     "execution_count": 81,
     "metadata": {},
     "output_type": "execute_result"
    }
   ],
   "source": [
    "myAtoi('42')"
   ]
  },
  {
   "cell_type": "code",
   "execution_count": 82,
   "id": "0b41f2ec",
   "metadata": {},
   "outputs": [
    {
     "data": {
      "text/plain": [
       "10"
      ]
     },
     "execution_count": 82,
     "metadata": {},
     "output_type": "execute_result"
    }
   ],
   "source": [
    "myAtoi('     10')"
   ]
  },
  {
   "cell_type": "code",
   "execution_count": 85,
   "id": "2af26919",
   "metadata": {},
   "outputs": [
    {
     "data": {
      "text/plain": [
       "-21"
      ]
     },
     "execution_count": 85,
     "metadata": {},
     "output_type": "execute_result"
    }
   ],
   "source": [
    "myAtoi('-0021ttime pts ')"
   ]
  },
  {
   "cell_type": "code",
   "execution_count": 88,
   "id": "11f288ec",
   "metadata": {},
   "outputs": [],
   "source": [
    "s = '  ,.rteeee chau    eeerrrtt....,'"
   ]
  },
  {
   "cell_type": "code",
   "execution_count": 99,
   "id": "3de7d52c",
   "metadata": {},
   "outputs": [
    {
     "data": {
      "text/plain": [
       "True"
      ]
     },
     "execution_count": 99,
     "metadata": {},
     "output_type": "execute_result"
    }
   ],
   "source": [
    "t.isdigit()"
   ]
  },
  {
   "cell_type": "code",
   "execution_count": 110,
   "id": "a2ff8a7f",
   "metadata": {},
   "outputs": [],
   "source": [
    "def maxArea(height):\n",
    "    res, left, right = 0, 0, len(height)-1\n",
    "    while left < right:\n",
    "        res = max(res, min(height[left], height[right])*(right - left))\n",
    "        if height[left] <= height[right]:\n",
    "            left += 1\n",
    "        else:\n",
    "            right -= 1\n",
    "    return res"
   ]
  },
  {
   "cell_type": "code",
   "execution_count": 111,
   "id": "d4361efb",
   "metadata": {},
   "outputs": [
    {
     "data": {
      "text/plain": [
       "49"
      ]
     },
     "execution_count": 111,
     "metadata": {},
     "output_type": "execute_result"
    }
   ],
   "source": [
    "h= [1, 8, 6, 2, 5, 4, 8, 3, 7]\n",
    "maxArea(h)"
   ]
  },
  {
   "cell_type": "code",
   "execution_count": 112,
   "id": "0d4f450a",
   "metadata": {},
   "outputs": [],
   "source": [
    "def intToRoman(num):\n",
    "    th = [\"\", \"M\", \"MM\", \"MMM\"]\n",
    "    h = [\"\", \"C\", \"CC\", \"CCC\", \"CD\", \"D\", \"DC\", \"DCC\", \"DCCC\", \"CM\"]\n",
    "    t = [\"\", \"X\", \"XX\", \"XXX\", \"XL\", \"L\", \"LX\", \"LXX\", \"LXXX\", \"XC\"]\n",
    "    o = [\"\", \"I\", \"II\", \"III\", \"IV\", \"V\", \"VI\", \"VII\", \"VIII\", \"IX\"]\n",
    "    return (th[num//1000]+h[num%1000//100]+t[num%100//10]+o[num%10] )"
   ]
  },
  {
   "cell_type": "code",
   "execution_count": 114,
   "id": "b2e3adcf",
   "metadata": {},
   "outputs": [
    {
     "data": {
      "text/plain": [
       "'III'"
      ]
     },
     "execution_count": 114,
     "metadata": {},
     "output_type": "execute_result"
    }
   ],
   "source": [
    "intToRoman(3)"
   ]
  },
  {
   "cell_type": "code",
   "execution_count": 115,
   "id": "08b5707d",
   "metadata": {},
   "outputs": [
    {
     "data": {
      "text/plain": [
       "'MCMLXXVII'"
      ]
     },
     "execution_count": 115,
     "metadata": {},
     "output_type": "execute_result"
    }
   ],
   "source": [
    "intToRoman(1977)"
   ]
  },
  {
   "cell_type": "code",
   "execution_count": 116,
   "id": "340259aa",
   "metadata": {},
   "outputs": [
    {
     "data": {
      "text/plain": [
       "'MCMXCVI'"
      ]
     },
     "execution_count": 116,
     "metadata": {},
     "output_type": "execute_result"
    }
   ],
   "source": [
    "intToRoman(1996)"
   ]
  },
  {
   "cell_type": "code",
   "execution_count": 117,
   "id": "97bf07ca",
   "metadata": {},
   "outputs": [],
   "source": [
    "def romanToInt(s):\n",
    "    roman = {'I': 1, 'V': 5, 'X': 10, 'L': 50, 'C': 100, 'D': 500, 'M': 1000}\n",
    "    s = s.replace('IV', 'IIII').replace('IX', 'XIIII').replace('XL', 'XXXX').replace('XC', 'LXXXX').replace(\"CD\", \"CCCC\").replace(\"CM\", \"DCCCC\")\n",
    "    return sum(map(lambda x: roman[x], s))\n"
   ]
  },
  {
   "cell_type": "code",
   "execution_count": 118,
   "id": "25c6d87d",
   "metadata": {},
   "outputs": [
    {
     "data": {
      "text/plain": [
       "4"
      ]
     },
     "execution_count": 118,
     "metadata": {},
     "output_type": "execute_result"
    }
   ],
   "source": [
    "romanToInt('IIII')"
   ]
  },
  {
   "cell_type": "code",
   "execution_count": 137,
   "id": "53f51037",
   "metadata": {},
   "outputs": [],
   "source": [
    "def longestCommon(strs):\n",
    "    res = ''\n",
    "    for i in zip(*strs):\n",
    "        if len(set(i)) == 1:\n",
    "            res += i[0]\n",
    "        else:\n",
    "            return res\n",
    "            print(res)\n",
    "    return res"
   ]
  },
  {
   "cell_type": "code",
   "execution_count": 138,
   "id": "36726fb6",
   "metadata": {},
   "outputs": [
    {
     "data": {
      "text/plain": [
       "'fl'"
      ]
     },
     "execution_count": 138,
     "metadata": {},
     "output_type": "execute_result"
    }
   ],
   "source": [
    "longestCommon([\"flower\",\"flow\",\"flight\"])"
   ]
  },
  {
   "cell_type": "code",
   "execution_count": 130,
   "id": "db960313",
   "metadata": {},
   "outputs": [],
   "source": [
    "c = ['Chau', 'Chan', 'Chaoun']"
   ]
  },
  {
   "cell_type": "code",
   "execution_count": 129,
   "id": "6279e102",
   "metadata": {},
   "outputs": [
    {
     "data": {
      "text/plain": [
       "[('C', 'C', 'C'), ('h', 'h', 'h'), ('a', 'a', 'a'), ('u', 'n', 'o')]"
      ]
     },
     "execution_count": 129,
     "metadata": {},
     "output_type": "execute_result"
    }
   ],
   "source": [
    "list(zip(*c))"
   ]
  },
  {
   "cell_type": "code",
   "execution_count": 6,
   "id": "ee739009",
   "metadata": {},
   "outputs": [],
   "source": [
    "def sumTwo(nums, target):\n",
    "    storage = set(i for i in nums)\n",
    "    for i in nums:\n",
    "        j = target - i\n",
    "        if j in storage:\n",
    "            return [j, i]\n",
    "    return []\n",
    "            "
   ]
  },
  {
   "cell_type": "code",
   "execution_count": 7,
   "id": "f4e14460",
   "metadata": {},
   "outputs": [
    {
     "data": {
      "text/plain": [
       "[8, 2]"
      ]
     },
     "execution_count": 7,
     "metadata": {},
     "output_type": "execute_result"
    }
   ],
   "source": [
    "nums = [2, 6, 8, 1]\n",
    "target = 10\n",
    "sumTwo(nums, target)"
   ]
  },
  {
   "cell_type": "code",
   "execution_count": 20,
   "id": "dd453f25",
   "metadata": {},
   "outputs": [],
   "source": [
    "def twoSum(arr, target):\n",
    "    store = {}\n",
    "    for i in range(len(arr)):\n",
    "        j = target - arr[i]\n",
    "        if j in store:\n",
    "            return [store[j], i]\n",
    "        store[arr[i]] = i\n",
    "    return []"
   ]
  },
  {
   "cell_type": "code",
   "execution_count": 22,
   "id": "c1245612",
   "metadata": {},
   "outputs": [
    {
     "data": {
      "text/plain": [
       "[0, 4]"
      ]
     },
     "execution_count": 22,
     "metadata": {},
     "output_type": "execute_result"
    }
   ],
   "source": [
    "arr = [1, 0, 9, 3, 5, 6]\n",
    "target = 6\n",
    "twoSum(arr, target)"
   ]
  },
  {
   "cell_type": "code",
   "execution_count": 61,
   "id": "aaab26ab",
   "metadata": {},
   "outputs": [],
   "source": [
    "def longest(s):\n",
    "    i, ans = 0, 0\n",
    "    store = {}\n",
    "    for j in range(len(s)):\n",
    "        if s[j] in store:\n",
    "            i = max(store[s[j]], i)\n",
    "        ans = max(ans, j-i+1)\n",
    "        store[s[j]] = j+1\n",
    "    return ans"
   ]
  },
  {
   "cell_type": "code",
   "execution_count": 62,
   "id": "b1784181",
   "metadata": {},
   "outputs": [
    {
     "data": {
      "text/plain": [
       "10"
      ]
     },
     "execution_count": 62,
     "metadata": {},
     "output_type": "execute_result"
    }
   ],
   "source": [
    "s = 'abcdefacrdefghkl'\n",
    "longest(s)"
   ]
  },
  {
   "cell_type": "code",
   "execution_count": 32,
   "id": "f0edcc41",
   "metadata": {},
   "outputs": [
    {
     "data": {
      "text/plain": [
       "5"
      ]
     },
     "execution_count": 32,
     "metadata": {},
     "output_type": "execute_result"
    }
   ],
   "source": [
    "6 ^ 3"
   ]
  },
  {
   "cell_type": "code",
   "execution_count": 79,
   "id": "51b4cac5",
   "metadata": {},
   "outputs": [],
   "source": [
    "def longer(s):\n",
    "    res = ''\n",
    "    longest = ''\n",
    "    for char in s:\n",
    "        if char not in res:\n",
    "            res += char\n",
    "        else:\n",
    "            if len(res) > len(longest):\n",
    "                longest = res\n",
    "            res = char\n",
    "    if len(res) > len(longest):\n",
    "        longest = res\n",
    "    return longest"
   ]
  },
  {
   "cell_type": "code",
   "execution_count": 80,
   "id": "46a8d18b",
   "metadata": {},
   "outputs": [
    {
     "data": {
      "text/plain": [
       "'abcdef'"
      ]
     },
     "execution_count": 80,
     "metadata": {},
     "output_type": "execute_result"
    }
   ],
   "source": [
    "s = 'abcdefefghkl'\n",
    "longer(s)"
   ]
  },
  {
   "cell_type": "code",
   "execution_count": 2,
   "id": "b70f75af",
   "metadata": {},
   "outputs": [],
   "source": [
    "a = 'doan thi minh chau'\n",
    "def reverse(s):\n",
    "    s = s.split()\n",
    "    return ' '.join(s[::-1])"
   ]
  },
  {
   "cell_type": "code",
   "execution_count": 3,
   "id": "aa0ee3f7",
   "metadata": {},
   "outputs": [
    {
     "data": {
      "text/plain": [
       "'chau minh thi doan'"
      ]
     },
     "execution_count": 3,
     "metadata": {},
     "output_type": "execute_result"
    }
   ],
   "source": [
    "reverse(a)"
   ]
  },
  {
   "cell_type": "code",
   "execution_count": 30,
   "id": "5f2bf93c",
   "metadata": {},
   "outputs": [],
   "source": [
    "s = 'bcabc'\n",
    "def removeDuplicate(s):\n",
    "    res = set()\n",
    "    stack = []\n",
    "    last = {c : i for i, c in enumerate(s)}\n",
    "    for i, c in enumerate(s):\n",
    "        if c not in res:\n",
    "            while stack and c < stack[-1] and i < last[stack[-1]]:\n",
    "                res.remove(stack.pop())\n",
    "            res.add(c)\n",
    "            stack.append(c)\n",
    "    return ''.join(stack)"
   ]
  },
  {
   "cell_type": "code",
   "execution_count": 31,
   "id": "7cc293e2",
   "metadata": {},
   "outputs": [
    {
     "data": {
      "text/plain": [
       "'abc'"
      ]
     },
     "execution_count": 31,
     "metadata": {},
     "output_type": "execute_result"
    }
   ],
   "source": [
    "removeDuplicate(s)"
   ]
  },
  {
   "cell_type": "code",
   "execution_count": 63,
   "id": "cff1568f",
   "metadata": {},
   "outputs": [],
   "source": [
    "a = [4, 5, 6, 3, 8]\n",
    "def miss(a):\n",
    "    res, i = set(a), 1\n",
    "    while i in res:\n",
    "        print('before',i)\n",
    "        i += 1\n",
    "        print(i)\n",
    "    return i"
   ]
  },
  {
   "cell_type": "code",
   "execution_count": 64,
   "id": "8cca376a",
   "metadata": {},
   "outputs": [
    {
     "data": {
      "text/plain": [
       "1"
      ]
     },
     "execution_count": 64,
     "metadata": {},
     "output_type": "execute_result"
    }
   ],
   "source": [
    "miss(a)"
   ]
  },
  {
   "cell_type": "code",
   "execution_count": 50,
   "id": "831b62f9",
   "metadata": {},
   "outputs": [
    {
     "name": "stdout",
     "output_type": "stream",
     "text": [
      "chaudoan\n"
     ]
    }
   ],
   "source": [
    "print('chau'+ 'doan')"
   ]
  },
  {
   "cell_type": "code",
   "execution_count": 74,
   "id": "ce0a31c6",
   "metadata": {},
   "outputs": [
    {
     "name": "stdout",
     "output_type": "stream",
     "text": [
      "5\n"
     ]
    }
   ],
   "source": [
    "a = [0,1,2,3,4,6,7]\n",
    "n = len(a) + 1\n",
    "expect = n*(n-1)//2\n",
    "actual = sum(a)\n",
    "miss = expect - actual \n",
    "print(miss)"
   ]
  },
  {
   "cell_type": "code",
   "execution_count": 2,
   "id": "0514093b",
   "metadata": {},
   "outputs": [
    {
     "name": "stdout",
     "output_type": "stream",
     "text": [
      "1\n",
      "2\n",
      "3\n",
      "4\n",
      "5\n"
     ]
    }
   ],
   "source": [
    "a = [1, 2, 3,4 ,5]\n",
    "for i in a:\n",
    "    print(i)"
   ]
  },
  {
   "cell_type": "code",
   "execution_count": 27,
   "id": "7e58246f",
   "metadata": {},
   "outputs": [],
   "source": [
    "def search(a, target):\n",
    "    s, e = -1, -1\n",
    "    for i in range(len(a)):\n",
    "        if a[i] == target:\n",
    "            if s == -1:\n",
    "                s = i\n",
    "            e = i\n",
    "    return [s, e]"
   ]
  },
  {
   "cell_type": "code",
   "execution_count": 28,
   "id": "e97a3c49",
   "metadata": {},
   "outputs": [
    {
     "name": "stdout",
     "output_type": "stream",
     "text": [
      "2\n",
      "-1\n",
      "2\n",
      "3\n",
      "4\n"
     ]
    },
    {
     "data": {
      "text/plain": [
       "[2, 4]"
      ]
     },
     "execution_count": 28,
     "metadata": {},
     "output_type": "execute_result"
    }
   ],
   "source": [
    "search([3, 4, 5, 5, 5, 7,], 5)"
   ]
  },
  {
   "cell_type": "code",
   "execution_count": 17,
   "id": "5690387b",
   "metadata": {},
   "outputs": [],
   "source": [
    "def search(nums, target):\n",
    "    l, r = 0, len(nums)-1\n",
    "    while l <= r:\n",
    "        mid = (l+r) // 2\n",
    "        if target <= nums[mid]:\n",
    "            r = mid - 1\n",
    "        elif target >= nums[mid]:\n",
    "            l = mid + 1\n",
    "        else:\n",
    "            return mid\n",
    "    return l"
   ]
  },
  {
   "cell_type": "code",
   "execution_count": 19,
   "id": "c5f68c57",
   "metadata": {},
   "outputs": [
    {
     "name": "stdout",
     "output_type": "stream",
     "text": [
      "1\n"
     ]
    }
   ],
   "source": [
    "print(search([1,3,4,5,6], 2))"
   ]
  },
  {
   "cell_type": "code",
   "execution_count": 23,
   "id": "254f412f",
   "metadata": {},
   "outputs": [],
   "source": [
    "board =[[\"5\",\"3\",\".\",\".\",\"7\",\".\",\".\",\".\",\".\"]\n",
    "        ,[\"6\",\".\",\".\",\"1\",\"9\",\"5\",\".\",\".\",\".\"]\n",
    "        ,[\".\",\"9\",\"8\",\".\",\".\",\".\",\".\",\"6\",\".\"]\n",
    "        ,[\"8\",\".\",\".\",\".\",\"6\",\".\",\".\",\".\",\"3\"]\n",
    "        ,[\"4\",\".\",\".\",\"8\",\".\",\"3\",\".\",\".\",\"1\"]\n",
    "        ,[\"7\",\".\",\".\",\".\",\"2\",\".\",\".\",\".\",\"6\"]\n",
    "        ,[\".\",\"6\",\".\",\".\",\".\",\".\",\"2\",\"8\",\".\"]\n",
    "        ,[\".\",\".\",\".\",\"4\",\"1\",\"9\",\".\",\".\",\"5\"]\n",
    "        ,[\".\",\".\",\".\",\".\",\"8\",\".\",\".\",\"7\",\"9\"]\n",
    "       ]\n"
   ]
  },
  {
   "cell_type": "code",
   "execution_count": 24,
   "id": "70b7f879",
   "metadata": {},
   "outputs": [],
   "source": [
    "board1 = [[\"8\",\"3\",\".\",\".\",\"7\",\".\",\".\",\".\",\".\"]\n",
    "          ,[\"6\",\".\",\".\",\"1\",\"9\",\"5\",\".\",\".\",\".\"]\n",
    "          ,[\".\",\"9\",\"8\",\".\",\".\",\".\",\".\",\"6\",\".\"]\n",
    "          ,[\"8\",\".\",\".\",\".\",\"6\",\".\",\".\",\".\",\"3\"]\n",
    "          ,[\"4\",\".\",\".\",\"8\",\".\",\"3\",\".\",\".\",\"1\"]\n",
    "          ,[\"7\",\".\",\".\",\".\",\"2\",\".\",\".\",\".\",\"6\"]\n",
    "          ,[\".\",\"6\",\".\",\".\",\".\",\".\",\"2\",\"8\",\".\"]\n",
    "          ,[\".\",\".\",\".\",\"4\",\"1\",\"9\",\".\",\".\",\"5\"]\n",
    "          ,[\".\",\".\",\".\",\".\",\"8\",\".\",\".\",\"7\",\"9\"]]"
   ]
  },
  {
   "cell_type": "code",
   "execution_count": 25,
   "id": "0f4c2135",
   "metadata": {},
   "outputs": [],
   "source": [
    "def validSodoku(board):\n",
    "    res = []\n",
    "    for i in range(9):\n",
    "        for j in range(9):\n",
    "            e = board[i][j]\n",
    "            if e != '.':\n",
    "                res += [(i, e), (e, j), (i//3, j//3, e)]\n",
    "    return len(res)==len(set(res))"
   ]
  },
  {
   "cell_type": "code",
   "execution_count": 26,
   "id": "16852ddc",
   "metadata": {},
   "outputs": [
    {
     "name": "stdout",
     "output_type": "stream",
     "text": [
      "True\n"
     ]
    }
   ],
   "source": [
    "print(validSodoku(board))"
   ]
  },
  {
   "cell_type": "code",
   "execution_count": 27,
   "id": "28afcb79",
   "metadata": {},
   "outputs": [
    {
     "name": "stdout",
     "output_type": "stream",
     "text": [
      "False\n"
     ]
    }
   ],
   "source": [
    "print(validSodoku(board1))"
   ]
  },
  {
   "cell_type": "code",
   "execution_count": 41,
   "id": "472dad2e",
   "metadata": {},
   "outputs": [],
   "source": [
    "def solveSodoku(board):\n",
    "    n=9\n",
    "    def isValid(row, col, ch):\n",
    "        row, col = int(row), int(col)\n",
    "        for i in range(9):\n",
    "            if board[i][col] == ch:\n",
    "                return False\n",
    "            if board[row][i] == ch:\n",
    "                return False\n",
    "            if board[3*(row//3) + i//3][3*(col//3)+i%3] == ch:\n",
    "                return False\n",
    "        return True\n",
    "    def solve(row, col):\n",
    "        if row == n:\n",
    "            return True\n",
    "        if col == n:\n",
    "            return solve(row+1, 0)\n",
    "        if board[row][col] == \".\":\n",
    "            for i in range(1, 10):\n",
    "                if isValid(row, col, str(i)):\n",
    "                    board[row][col] = str(i)\n",
    "                    if solve(row, col + 1):\n",
    "                        return True\n",
    "                    else:\n",
    "                        board[row][col] = \".\"\n",
    "            return False\n",
    "        else:\n",
    "            return solve(row, col + 1)      \n",
    "    \n",
    "    solve(0, 0)"
   ]
  },
  {
   "cell_type": "code",
   "execution_count": 42,
   "id": "2c9c4fc7",
   "metadata": {},
   "outputs": [
    {
     "name": "stdout",
     "output_type": "stream",
     "text": [
      "None\n"
     ]
    }
   ],
   "source": [
    "print(solveSodoku([[\"5\",\"3\",\".\",\".\",\"7\",\".\",\".\",\".\",\".\"]\n",
    "        ,[\"6\",\".\",\".\",\"1\",\"9\",\"5\",\".\",\".\",\".\"]\n",
    "        ,[\".\",\"9\",\"8\",\".\",\".\",\".\",\".\",\"6\",\".\"]\n",
    "        ,[\"8\",\".\",\".\",\".\",\"6\",\".\",\".\",\".\",\"3\"]\n",
    "        ,[\"4\",\".\",\".\",\"8\",\".\",\"3\",\".\",\".\",\"1\"]\n",
    "        ,[\"7\",\".\",\".\",\".\",\"2\",\".\",\".\",\".\",\"6\"]\n",
    "        ,[\".\",\"6\",\".\",\".\",\".\",\".\",\"2\",\"8\",\".\"]\n",
    "        ,[\".\",\".\",\".\",\"4\",\"1\",\"9\",\".\",\".\",\"5\"]\n",
    "        ,[\".\",\".\",\".\",\".\",\"8\",\".\",\".\",\"7\",\"9\"]\n",
    "       ]))"
   ]
  },
  {
   "cell_type": "code",
   "execution_count": 78,
   "id": "063a2cd4",
   "metadata": {},
   "outputs": [],
   "source": [
    "def countSay(n):\n",
    "    if n == 1: return '1'\n",
    "    else:\n",
    "        res, count = '', 1\n",
    "        pre = countSay(n-1)\n",
    "        print(pre)\n",
    "        for i in range(1, len(pre)):\n",
    "            if pre[i] == pre[i-1]: count += 1\n",
    "            else: \n",
    "                res += str(count) + pre[i-1]\n",
    "                count =1\n",
    "        res += str(count) + pre[-1]\n",
    "        return res"
   ]
  },
  {
   "cell_type": "code",
   "execution_count": 79,
   "id": "634bfc7a",
   "metadata": {},
   "outputs": [
    {
     "name": "stdout",
     "output_type": "stream",
     "text": [
      "31131211131221\n"
     ]
    }
   ],
   "source": [
    "n = 9\n",
    "print(countSay(n))"
   ]
  },
  {
   "cell_type": "code",
   "execution_count": 87,
   "id": "7c3da037",
   "metadata": {},
   "outputs": [],
   "source": [
    "def combinationSum(candidates, target):\n",
    "    def backTrack(s, target, p):\n",
    "        if target == 0:\n",
    "            res.append(p)\n",
    "            return \n",
    "        for i in range(s, len(candidates)):\n",
    "            if candidates[i] <= target:\n",
    "                backTrack(i, target-candidates[i], p+[candidates[i]])\n",
    "    res = []\n",
    "    backTrack(0, target, [])\n",
    "    return res"
   ]
  },
  {
   "cell_type": "code",
   "execution_count": 88,
   "id": "bfcbb5b0",
   "metadata": {},
   "outputs": [
    {
     "name": "stdout",
     "output_type": "stream",
     "text": [
      "[[2, 2, 3], [2, 2, 3], [2, 2, 3], [7]]\n"
     ]
    }
   ],
   "source": [
    "print(combinationSum([2, 2, 3, 7], 7))"
   ]
  },
  {
   "cell_type": "code",
   "execution_count": null,
   "id": "d7e2f9b8",
   "metadata": {},
   "outputs": [],
   "source": []
  }
 ],
 "metadata": {
  "kernelspec": {
   "display_name": "Python 3 (ipykernel)",
   "language": "python",
   "name": "python3"
  },
  "language_info": {
   "codemirror_mode": {
    "name": "ipython",
    "version": 3
   },
   "file_extension": ".py",
   "mimetype": "text/x-python",
   "name": "python",
   "nbconvert_exporter": "python",
   "pygments_lexer": "ipython3",
   "version": "3.8.8"
  }
 },
 "nbformat": 4,
 "nbformat_minor": 5
}
